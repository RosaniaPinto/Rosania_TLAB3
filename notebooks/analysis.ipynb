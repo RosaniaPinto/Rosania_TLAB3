{
 "cells": [
  {
   "cell_type": "markdown",
   "id": "63d0a69d",
   "metadata": {},
   "source": [
    "# Analysis\n",
    "\n",
    "Create your own EDA below! Create as many code-blocks as you need.\n",
    "\n",
    "Once you've completed your EDA, complete the section titled **Reflections** where you will answer questions about your EDA."
   ]
  },
  {
   "cell_type": "code",
   "execution_count": 21,
   "id": "6655a736",
   "metadata": {},
   "outputs": [],
   "source": [
    "import pandas as pd \n",
    "import numpy as np\n",
    "\n",
    "import seaborn as sns\n",
    "import matplotlib.pyplot as plt"
   ]
  },
  {
   "cell_type": "code",
   "execution_count": 25,
   "id": "868ea7cd",
   "metadata": {},
   "outputs": [],
   "source": [
    "# import coffee data\n",
    "coffee = pd.read_csv(\"../data/crop/coffee_output.csv\")\n",
    "\n",
    "# import weather data\n",
    "weather = pd.read_csv(\"../data/weather/weather_data.csv\")"
   ]
  },
  {
   "cell_type": "code",
   "execution_count": 28,
   "id": "71bfd191",
   "metadata": {},
   "outputs": [],
   "source": [
    "# TODO: Merge these two dataframes together\n",
    "\n",
    "merged_df = pd.merge(coffee, weather, on=[\"year\", \"subdivision\"], how=\"inner\")\n"
   ]
  },
  {
   "cell_type": "code",
   "execution_count": 29,
   "id": "44f435eb",
   "metadata": {},
   "outputs": [
    {
     "data": {
      "text/html": [
       "<div>\n",
       "<style scoped>\n",
       "    .dataframe tbody tr th:only-of-type {\n",
       "        vertical-align: middle;\n",
       "    }\n",
       "\n",
       "    .dataframe tbody tr th {\n",
       "        vertical-align: top;\n",
       "    }\n",
       "\n",
       "    .dataframe thead th {\n",
       "        text-align: right;\n",
       "    }\n",
       "</style>\n",
       "<table border=\"1\" class=\"dataframe\">\n",
       "  <thead>\n",
       "    <tr style=\"text-align: right;\">\n",
       "      <th></th>\n",
       "      <th>country</th>\n",
       "      <th>subdivision</th>\n",
       "      <th>type</th>\n",
       "      <th>60kgs_bag</th>\n",
       "      <th>year</th>\n",
       "      <th>nonbearing_trees</th>\n",
       "      <th>bearing_trees</th>\n",
       "      <th>nonbear_hectares</th>\n",
       "      <th>bearing_hectares</th>\n",
       "      <th>bearing_trees_per_hectare</th>\n",
       "      <th>nonbearing_trees_per_hectare</th>\n",
       "      <th>rain_max</th>\n",
       "      <th>temp_avg</th>\n",
       "      <th>temp_max</th>\n",
       "      <th>temp_min</th>\n",
       "      <th>hum_max</th>\n",
       "      <th>hum_min</th>\n",
       "      <th>wind_max</th>\n",
       "      <th>wind_avg</th>\n",
       "    </tr>\n",
       "  </thead>\n",
       "  <tbody>\n",
       "    <tr>\n",
       "      <th>0</th>\n",
       "      <td>Brazil</td>\n",
       "      <td>Minas Gerais</td>\n",
       "      <td>Arabica</td>\n",
       "      <td>16.30</td>\n",
       "      <td>2006</td>\n",
       "      <td>581.0</td>\n",
       "      <td>5330.0</td>\n",
       "      <td>175.0</td>\n",
       "      <td>2298.0</td>\n",
       "      <td>2319.0</td>\n",
       "      <td>3320.0</td>\n",
       "      <td>6.670968</td>\n",
       "      <td>21.803087</td>\n",
       "      <td>27.190323</td>\n",
       "      <td>18.654839</td>\n",
       "      <td>97.129032</td>\n",
       "      <td>57.806452</td>\n",
       "      <td>9.706452</td>\n",
       "      <td>2.075207</td>\n",
       "    </tr>\n",
       "    <tr>\n",
       "      <th>1</th>\n",
       "      <td>Brazil</td>\n",
       "      <td>Minas Gerais</td>\n",
       "      <td>Arabica</td>\n",
       "      <td>23.70</td>\n",
       "      <td>2007</td>\n",
       "      <td>563.0</td>\n",
       "      <td>5730.0</td>\n",
       "      <td>186.0</td>\n",
       "      <td>2245.0</td>\n",
       "      <td>2552.0</td>\n",
       "      <td>3030.0</td>\n",
       "      <td>1.866250</td>\n",
       "      <td>23.040999</td>\n",
       "      <td>27.649375</td>\n",
       "      <td>18.753125</td>\n",
       "      <td>87.837500</td>\n",
       "      <td>48.493750</td>\n",
       "      <td>8.749375</td>\n",
       "      <td>2.069605</td>\n",
       "    </tr>\n",
       "    <tr>\n",
       "      <th>2</th>\n",
       "      <td>Brazil</td>\n",
       "      <td>Minas Gerais</td>\n",
       "      <td>Arabica</td>\n",
       "      <td>16.85</td>\n",
       "      <td>2008</td>\n",
       "      <td>679.0</td>\n",
       "      <td>5720.0</td>\n",
       "      <td>196.0</td>\n",
       "      <td>2235.0</td>\n",
       "      <td>2559.0</td>\n",
       "      <td>3468.0</td>\n",
       "      <td>3.777049</td>\n",
       "      <td>20.682400</td>\n",
       "      <td>27.000000</td>\n",
       "      <td>16.216393</td>\n",
       "      <td>96.136612</td>\n",
       "      <td>51.415301</td>\n",
       "      <td>8.865027</td>\n",
       "      <td>1.584408</td>\n",
       "    </tr>\n",
       "    <tr>\n",
       "      <th>3</th>\n",
       "      <td>Brazil</td>\n",
       "      <td>Minas Gerais</td>\n",
       "      <td>Arabica</td>\n",
       "      <td>25.55</td>\n",
       "      <td>2009</td>\n",
       "      <td>663.0</td>\n",
       "      <td>5770.0</td>\n",
       "      <td>188.0</td>\n",
       "      <td>2223.0</td>\n",
       "      <td>2596.0</td>\n",
       "      <td>3527.0</td>\n",
       "      <td>3.380220</td>\n",
       "      <td>21.023802</td>\n",
       "      <td>27.769231</td>\n",
       "      <td>16.410440</td>\n",
       "      <td>96.054945</td>\n",
       "      <td>49.329670</td>\n",
       "      <td>9.114286</td>\n",
       "      <td>1.611746</td>\n",
       "    </tr>\n",
       "    <tr>\n",
       "      <th>4</th>\n",
       "      <td>Brazil</td>\n",
       "      <td>Minas Gerais</td>\n",
       "      <td>Arabica</td>\n",
       "      <td>22.10</td>\n",
       "      <td>2010</td>\n",
       "      <td>873.0</td>\n",
       "      <td>5725.0</td>\n",
       "      <td>244.0</td>\n",
       "      <td>2151.0</td>\n",
       "      <td>2662.0</td>\n",
       "      <td>3578.0</td>\n",
       "      <td>2.183516</td>\n",
       "      <td>21.444293</td>\n",
       "      <td>28.580769</td>\n",
       "      <td>16.156044</td>\n",
       "      <td>95.247253</td>\n",
       "      <td>44.648352</td>\n",
       "      <td>9.109341</td>\n",
       "      <td>1.455907</td>\n",
       "    </tr>\n",
       "  </tbody>\n",
       "</table>\n",
       "</div>"
      ],
      "text/plain": [
       "  country   subdivision     type  60kgs_bag  year  nonbearing_trees  \\\n",
       "0  Brazil  Minas Gerais  Arabica      16.30  2006             581.0   \n",
       "1  Brazil  Minas Gerais  Arabica      23.70  2007             563.0   \n",
       "2  Brazil  Minas Gerais  Arabica      16.85  2008             679.0   \n",
       "3  Brazil  Minas Gerais  Arabica      25.55  2009             663.0   \n",
       "4  Brazil  Minas Gerais  Arabica      22.10  2010             873.0   \n",
       "\n",
       "   bearing_trees  nonbear_hectares  bearing_hectares  \\\n",
       "0         5330.0             175.0            2298.0   \n",
       "1         5730.0             186.0            2245.0   \n",
       "2         5720.0             196.0            2235.0   \n",
       "3         5770.0             188.0            2223.0   \n",
       "4         5725.0             244.0            2151.0   \n",
       "\n",
       "   bearing_trees_per_hectare  nonbearing_trees_per_hectare  rain_max  \\\n",
       "0                     2319.0                        3320.0  6.670968   \n",
       "1                     2552.0                        3030.0  1.866250   \n",
       "2                     2559.0                        3468.0  3.777049   \n",
       "3                     2596.0                        3527.0  3.380220   \n",
       "4                     2662.0                        3578.0  2.183516   \n",
       "\n",
       "    temp_avg   temp_max   temp_min    hum_max    hum_min  wind_max  wind_avg  \n",
       "0  21.803087  27.190323  18.654839  97.129032  57.806452  9.706452  2.075207  \n",
       "1  23.040999  27.649375  18.753125  87.837500  48.493750  8.749375  2.069605  \n",
       "2  20.682400  27.000000  16.216393  96.136612  51.415301  8.865027  1.584408  \n",
       "3  21.023802  27.769231  16.410440  96.054945  49.329670  9.114286  1.611746  \n",
       "4  21.444293  28.580769  16.156044  95.247253  44.648352  9.109341  1.455907  "
      ]
     },
     "execution_count": 29,
     "metadata": {},
     "output_type": "execute_result"
    }
   ],
   "source": [
    "# TODO: View the first 5 rows of your data\n",
    "merged_df.head()"
   ]
  },
  {
   "cell_type": "code",
   "execution_count": 32,
   "id": "9600b65c",
   "metadata": {},
   "outputs": [
    {
     "name": "stdout",
     "output_type": "stream",
     "text": [
      "country                         0\n",
      "subdivision                     0\n",
      "type                            0\n",
      "60kgs_bag                       0\n",
      "year                            0\n",
      "nonbearing_trees                1\n",
      "bearing_trees                   1\n",
      "nonbear_hectares                1\n",
      "bearing_hectares                1\n",
      "bearing_trees_per_hectare       1\n",
      "nonbearing_trees_per_hectare    1\n",
      "rain_max                        0\n",
      "temp_avg                        0\n",
      "temp_max                        0\n",
      "temp_min                        0\n",
      "hum_max                         0\n",
      "hum_min                         0\n",
      "wind_max                        0\n",
      "wind_avg                        0\n",
      "dtype: int64\n"
     ]
    },
    {
     "data": {
      "text/plain": [
       "Ellipsis"
      ]
     },
     "execution_count": 32,
     "metadata": {},
     "output_type": "execute_result"
    }
   ],
   "source": [
    "# TODO: Check for null values \n",
    "print(merged_df.isnull().sum())\n",
    "\n",
    "..."
   ]
  },
  {
   "cell_type": "code",
   "execution_count": 33,
   "id": "ff411571",
   "metadata": {},
   "outputs": [],
   "source": [
    "# TODO: Drop rows that contain null values\n",
    "\n",
    "merged_df = merged_df.dropna()\n"
   ]
  },
  {
   "cell_type": "code",
   "execution_count": 36,
   "id": "97fcd678",
   "metadata": {},
   "outputs": [
    {
     "data": {
      "text/html": [
       "<div>\n",
       "<style scoped>\n",
       "    .dataframe tbody tr th:only-of-type {\n",
       "        vertical-align: middle;\n",
       "    }\n",
       "\n",
       "    .dataframe tbody tr th {\n",
       "        vertical-align: top;\n",
       "    }\n",
       "\n",
       "    .dataframe thead th {\n",
       "        text-align: right;\n",
       "    }\n",
       "</style>\n",
       "<table border=\"1\" class=\"dataframe\">\n",
       "  <thead>\n",
       "    <tr style=\"text-align: right;\">\n",
       "      <th></th>\n",
       "      <th>country</th>\n",
       "      <th>subdivision</th>\n",
       "      <th>type</th>\n",
       "      <th>60kgs_bag</th>\n",
       "      <th>year</th>\n",
       "      <th>nonbearing_trees</th>\n",
       "      <th>bearing_trees</th>\n",
       "      <th>nonbear_hectares</th>\n",
       "      <th>bearing_hectares</th>\n",
       "      <th>bearing_trees_per_hectare</th>\n",
       "      <th>nonbearing_trees_per_hectare</th>\n",
       "      <th>rain_max</th>\n",
       "      <th>temp_avg</th>\n",
       "      <th>temp_max</th>\n",
       "      <th>temp_min</th>\n",
       "      <th>hum_max</th>\n",
       "      <th>hum_min</th>\n",
       "      <th>wind_max</th>\n",
       "      <th>wind_avg</th>\n",
       "    </tr>\n",
       "  </thead>\n",
       "  <tbody>\n",
       "    <tr>\n",
       "      <th>0</th>\n",
       "      <td>Brazil</td>\n",
       "      <td>Minas Gerais</td>\n",
       "      <td>Arabica</td>\n",
       "      <td>16.30</td>\n",
       "      <td>2006</td>\n",
       "      <td>581.0</td>\n",
       "      <td>5330.0</td>\n",
       "      <td>175.0</td>\n",
       "      <td>2298.0</td>\n",
       "      <td>2319.0</td>\n",
       "      <td>3320.0</td>\n",
       "      <td>6.670968</td>\n",
       "      <td>21.803087</td>\n",
       "      <td>27.190323</td>\n",
       "      <td>18.654839</td>\n",
       "      <td>97.129032</td>\n",
       "      <td>57.806452</td>\n",
       "      <td>9.706452</td>\n",
       "      <td>2.075207</td>\n",
       "    </tr>\n",
       "    <tr>\n",
       "      <th>1</th>\n",
       "      <td>Brazil</td>\n",
       "      <td>Minas Gerais</td>\n",
       "      <td>Arabica</td>\n",
       "      <td>23.70</td>\n",
       "      <td>2007</td>\n",
       "      <td>563.0</td>\n",
       "      <td>5730.0</td>\n",
       "      <td>186.0</td>\n",
       "      <td>2245.0</td>\n",
       "      <td>2552.0</td>\n",
       "      <td>3030.0</td>\n",
       "      <td>1.866250</td>\n",
       "      <td>23.040999</td>\n",
       "      <td>27.649375</td>\n",
       "      <td>18.753125</td>\n",
       "      <td>87.837500</td>\n",
       "      <td>48.493750</td>\n",
       "      <td>8.749375</td>\n",
       "      <td>2.069605</td>\n",
       "    </tr>\n",
       "    <tr>\n",
       "      <th>2</th>\n",
       "      <td>Brazil</td>\n",
       "      <td>Minas Gerais</td>\n",
       "      <td>Arabica</td>\n",
       "      <td>16.85</td>\n",
       "      <td>2008</td>\n",
       "      <td>679.0</td>\n",
       "      <td>5720.0</td>\n",
       "      <td>196.0</td>\n",
       "      <td>2235.0</td>\n",
       "      <td>2559.0</td>\n",
       "      <td>3468.0</td>\n",
       "      <td>3.777049</td>\n",
       "      <td>20.682400</td>\n",
       "      <td>27.000000</td>\n",
       "      <td>16.216393</td>\n",
       "      <td>96.136612</td>\n",
       "      <td>51.415301</td>\n",
       "      <td>8.865027</td>\n",
       "      <td>1.584408</td>\n",
       "    </tr>\n",
       "    <tr>\n",
       "      <th>3</th>\n",
       "      <td>Brazil</td>\n",
       "      <td>Minas Gerais</td>\n",
       "      <td>Arabica</td>\n",
       "      <td>25.55</td>\n",
       "      <td>2009</td>\n",
       "      <td>663.0</td>\n",
       "      <td>5770.0</td>\n",
       "      <td>188.0</td>\n",
       "      <td>2223.0</td>\n",
       "      <td>2596.0</td>\n",
       "      <td>3527.0</td>\n",
       "      <td>3.380220</td>\n",
       "      <td>21.023802</td>\n",
       "      <td>27.769231</td>\n",
       "      <td>16.410440</td>\n",
       "      <td>96.054945</td>\n",
       "      <td>49.329670</td>\n",
       "      <td>9.114286</td>\n",
       "      <td>1.611746</td>\n",
       "    </tr>\n",
       "    <tr>\n",
       "      <th>4</th>\n",
       "      <td>Brazil</td>\n",
       "      <td>Minas Gerais</td>\n",
       "      <td>Arabica</td>\n",
       "      <td>22.10</td>\n",
       "      <td>2010</td>\n",
       "      <td>873.0</td>\n",
       "      <td>5725.0</td>\n",
       "      <td>244.0</td>\n",
       "      <td>2151.0</td>\n",
       "      <td>2662.0</td>\n",
       "      <td>3578.0</td>\n",
       "      <td>2.183516</td>\n",
       "      <td>21.444293</td>\n",
       "      <td>28.580769</td>\n",
       "      <td>16.156044</td>\n",
       "      <td>95.247253</td>\n",
       "      <td>44.648352</td>\n",
       "      <td>9.109341</td>\n",
       "      <td>1.455907</td>\n",
       "    </tr>\n",
       "  </tbody>\n",
       "</table>\n",
       "</div>"
      ],
      "text/plain": [
       "  country   subdivision     type  60kgs_bag  year  nonbearing_trees  \\\n",
       "0  Brazil  Minas Gerais  Arabica      16.30  2006             581.0   \n",
       "1  Brazil  Minas Gerais  Arabica      23.70  2007             563.0   \n",
       "2  Brazil  Minas Gerais  Arabica      16.85  2008             679.0   \n",
       "3  Brazil  Minas Gerais  Arabica      25.55  2009             663.0   \n",
       "4  Brazil  Minas Gerais  Arabica      22.10  2010             873.0   \n",
       "\n",
       "   bearing_trees  nonbear_hectares  bearing_hectares  \\\n",
       "0         5330.0             175.0            2298.0   \n",
       "1         5730.0             186.0            2245.0   \n",
       "2         5720.0             196.0            2235.0   \n",
       "3         5770.0             188.0            2223.0   \n",
       "4         5725.0             244.0            2151.0   \n",
       "\n",
       "   bearing_trees_per_hectare  nonbearing_trees_per_hectare  rain_max  \\\n",
       "0                     2319.0                        3320.0  6.670968   \n",
       "1                     2552.0                        3030.0  1.866250   \n",
       "2                     2559.0                        3468.0  3.777049   \n",
       "3                     2596.0                        3527.0  3.380220   \n",
       "4                     2662.0                        3578.0  2.183516   \n",
       "\n",
       "    temp_avg   temp_max   temp_min    hum_max    hum_min  wind_max  wind_avg  \n",
       "0  21.803087  27.190323  18.654839  97.129032  57.806452  9.706452  2.075207  \n",
       "1  23.040999  27.649375  18.753125  87.837500  48.493750  8.749375  2.069605  \n",
       "2  20.682400  27.000000  16.216393  96.136612  51.415301  8.865027  1.584408  \n",
       "3  21.023802  27.769231  16.410440  96.054945  49.329670  9.114286  1.611746  \n",
       "4  21.444293  28.580769  16.156044  95.247253  44.648352  9.109341  1.455907  "
      ]
     },
     "execution_count": 36,
     "metadata": {},
     "output_type": "execute_result"
    }
   ],
   "source": [
    "merged_df.head()"
   ]
  },
  {
   "cell_type": "code",
   "execution_count": null,
   "id": "22fd1940",
   "metadata": {},
   "outputs": [],
   "source": [
    "# TODO: BEGIN YOUR EDA!\n",
    "\n"
   ]
  },
  {
   "cell_type": "markdown",
   "id": "a33e1db5",
   "metadata": {},
   "source": [
    "## Reflections\n",
    "\n",
    "Answer each question based on the visualizations that you've generated.\n",
    "\n",
    "Remember, you must justify your answers with proof! Look back to W6D3 for more context."
   ]
  },
  {
   "cell_type": "markdown",
   "id": "fe46532b",
   "metadata": {},
   "source": [
    "What is the relationship between temp_avg and 60kgs_bag? How *strong* is this relationship? Use pearson's correlation coefficient.\n",
    "\n",
    "Answer here"
   ]
  },
  {
   "cell_type": "code",
   "execution_count": 37,
   "id": "95636232",
   "metadata": {},
   "outputs": [
    {
     "data": {
      "text/plain": [
       "<Axes: xlabel='temp_avg'>"
      ]
     },
     "execution_count": 37,
     "metadata": {},
     "output_type": "execute_result"
    },
    {
     "data": {
      "image/png": "[encoded data removed]",
      "text/plain": [
       "<Figure size 640x480 with 1 Axes>"
      ]
     },
     "metadata": {},
     "output_type": "display_data"
    }
   ],
   "source": [
    "merged_df.plot(x='temp_avg', y='60kgs_bag', kind='line')"
   ]
  },
  {
   "cell_type": "markdown",
   "id": "ccd4f1e8",
   "metadata": {},
   "source": [
    "What is the relationship between minimum humidity and 60kgs_bag? How *strong* is this relationship? Use pearson's correlation coefficient.\n",
    "\n",
    "Answer here"
   ]
  },
  {
   "cell_type": "code",
   "execution_count": 38,
   "id": "bcc44f2e",
   "metadata": {},
   "outputs": [
    {
     "data": {
      "text/plain": [
       "<Axes: xlabel='hum_min'>"
      ]
     },
     "execution_count": 38,
     "metadata": {},
     "output_type": "execute_result"
    },
    {
     "data": {
      "image/png": "[encoded data removed]",
      "text/plain": [
       "<Figure size 640x480 with 1 Axes>"
      ]
     },
     "metadata": {},
     "output_type": "display_data"
    }
   ],
   "source": [
    "merged_df.plot(x='hum_min', y='60kgs_bag', kind='line')"
   ]
  },
  {
   "cell_type": "markdown",
   "id": "0b500aa4",
   "metadata": {},
   "source": [
    "What is the relationship between rain_max and 60kgs_bag? How *strong* is this relationship? Use pearson's correlation coefficient.\n",
    "\n",
    "Answer here"
   ]
  },
  {
   "cell_type": "code",
   "execution_count": null,
   "id": "fc02ead9",
   "metadata": {},
   "outputs": [],
   "source": []
  },
  {
   "cell_type": "markdown",
   "id": "be3dab9c",
   "metadata": {},
   "source": [
    "What is the relationship between average wind speed and 60kgs_bag? How *strong* is this relationship? Use pearson's correlation coefficient.\n",
    "\n",
    "Answer here"
   ]
  },
  {
   "cell_type": "markdown",
   "id": "ee6ea06a",
   "metadata": {},
   "source": [
    "Perform the same bivariate analysis between the mentioned weather columns (temp_avg, hum_min, rain_max, and wind_avg) and a coffee-related column of your choice (bearing_trees, nonbearing_trees, bearing_trees_per_hectare, etc). Which directions do these relationships follow? What are the strengths of these relationships?\n",
    "\n",
    "Answer here"
   ]
  },
  {
   "cell_type": "markdown",
   "id": "18ba1ed2",
   "metadata": {},
   "source": [
    "Which weather factor seems to influence coffee production the most? \n",
    "\n",
    "Answer here"
   ]
  },
  {
   "cell_type": "markdown",
   "id": "95e8c38b",
   "metadata": {},
   "source": [
    "Which data would you collect to continue exploring the impacts of weather and economic forces on coffee production?\n",
    "\n",
    "Answer here"
   ]
  },
  {
   "cell_type": "markdown",
   "id": "0ca6f497",
   "metadata": {},
   "source": [
    "If you were preparing a report to provide coffee farmers, which weather condititions would you state are the most favorable for coffee growing (assuming any exist)?\n",
    "\n",
    "Answer here"
   ]
  }
 ],
 "metadata": {
  "kernelspec": {
   "display_name": "ds",
   "language": "python",
   "name": "python3"
  },
  "language_info": {
   "codemirror_mode": {
    "name": "ipython",
    "version": 3
   },
   "file_extension": ".py",
   "mimetype": "text/x-python",
   "name": "python",
   "nbconvert_exporter": "python",
   "pygments_lexer": "ipython3",
   "version": "3.12.9"
  }
 },
 "nbformat": 4,
 "nbformat_minor": 5
}
